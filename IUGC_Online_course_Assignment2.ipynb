{
 "cells": [
  {
   "cell_type": "raw",
   "metadata": {},
   "source": [
    "PR 1: Aritmatika"
   ]
  },
  {
   "cell_type": "code",
   "execution_count": 23,
   "metadata": {},
   "outputs": [
    {
     "name": "stdout",
     "output_type": "stream",
     "text": [
      "3 x 5 + 6 = 21\n"
     ]
    },
    {
     "data": {
      "text/plain": [
       "21"
      ]
     },
     "execution_count": 23,
     "metadata": {},
     "output_type": "execute_result"
    }
   ],
   "source": [
    "#Metode 1\n",
    "x = 3\n",
    "y = 5\n",
    "z = 6\n",
    "\n",
    "t = x * y + z\n",
    "\n",
    "print (x, 'x', y, '+', z, '=', t)\n",
    "\n",
    "\n",
    "#Metode 2\n",
    "def hitung_t (x, y, z):\n",
    "    t = x * y + z\n",
    "    \n",
    "    return t\n",
    "\n",
    "hitung_t(3, 5, 6)"
   ]
  },
  {
   "cell_type": "raw",
   "metadata": {},
   "source": [
    "PR 2: Konversi suhu (celsius ke fahrenheit)"
   ]
  },
  {
   "cell_type": "code",
   "execution_count": 28,
   "metadata": {},
   "outputs": [
    {
     "name": "stdout",
     "output_type": "stream",
     "text": [
      "Masukkan nilai suhu dalam derajat celsius: 0\n",
      "Suhu adalah 0.0 celsius.\n",
      "Suhu adalah 32.0 fahrenheit.\n",
      "0\n"
     ]
    },
    {
     "data": {
      "text/plain": [
       "32.0"
      ]
     },
     "execution_count": 28,
     "metadata": {},
     "output_type": "execute_result"
    }
   ],
   "source": [
    "#Metode 1\n",
    "c = float (input ('Masukkan nilai suhu dalam derajat celsius: '))\n",
    "print ('Suhu adalah', c, 'celsius.')\n",
    "\n",
    "f = (c * 9 / 5) + 32\n",
    "print ('Suhu adalah', f, 'fahrenheit.')\n",
    "\n",
    "\n",
    "#Metode 2\n",
    "def hitung_c (c):\n",
    "    c = c\n",
    "    \n",
    "    return c\n",
    "\n",
    "hitung_c (float (input ()))\n",
    "\n",
    "def hitung_f (c):\n",
    "    f = (c * 9 / 5) + 32\n",
    "    \n",
    "    return f\n",
    "\n",
    "hitung_f (c)"
   ]
  },
  {
   "cell_type": "raw",
   "metadata": {},
   "source": [
    "PR 3: Perkalian matriks"
   ]
  },
  {
   "cell_type": "code",
   "execution_count": 38,
   "metadata": {},
   "outputs": [
    {
     "name": "stdout",
     "output_type": "stream",
     "text": [
      "Matriks a: \n",
      "[[1 2 3]\n",
      " [4 5 6]]\n",
      "Matriks b: \n",
      "[[1. 1. 1.]\n",
      " [1. 1. 1.]\n",
      " [1. 1. 1.]]\n",
      "Hasil perkalian matriks a dan b adalah: \n",
      "[[ 6.  6.  6.]\n",
      " [15. 15. 15.]]\n"
     ]
    }
   ],
   "source": [
    "import numpy as np\n",
    "\n",
    "a = np.array (([1, 2, 3], [4, 5, 6]))\n",
    "b = np.ones ([3, 3])\n",
    "\n",
    "c = np.dot (a, b)\n",
    "\n",
    "print ('Matriks a: ')\n",
    "print (a)\n",
    "print ('Matriks b: ')\n",
    "print (b)\n",
    "print ('Hasil perkalian matriks a dan b adalah: ')\n",
    "print (c)"
   ]
  },
  {
   "cell_type": "raw",
   "metadata": {},
   "source": [
    "PR 4: Plot pulau (Jawa)"
   ]
  },
  {
   "cell_type": "code",
   "execution_count": 55,
   "metadata": {},
   "outputs": [
    {
     "data": {
      "image/png": "[encoded data removed]",
      "text/plain": [
       "<Figure size 432x288 with 1 Axes>"
      ]
     },
     "metadata": {},
     "output_type": "display_data"
    }
   ],
   "source": [
    "from mpl_toolkits.basemap import Basemap\n",
    "import matplotlib.pyplot as plt\n",
    "import numpy as np\n",
    "\n",
    "map = Basemap (projection = 'merc', llcrnrlat = -10, urcrnrlat = -5,\n",
    "               llcrnrlon = 105, urcrnrlon = 115, lat_ts = 7.5, resolution = 'i')\n",
    "map.drawcoastlines ()\n",
    "map.fillcontinents (color = 'green', lake_color = 'lightblue')\n",
    "\n",
    "map.drawparallels (np.arange (-10., -5., 1.), labels = [False, True, True, False])\n",
    "map.drawmeridians (np.arange (105., 115., 1.), labels = [True, False, False, True])\n",
    "map.drawmapboundary (fill_color = 'lightblue')\n",
    "\n",
    "plt.title ('Peta Pulau Jawa')\n",
    "plt.show ()"
   ]
  },
  {
   "cell_type": "code",
   "execution_count": null,
   "metadata": {},
   "outputs": [],
   "source": []
  }
 ],
 "metadata": {
  "kernelspec": {
   "display_name": "Python 3",
   "language": "python",
   "name": "python3"
  },
  "language_info": {
   "codemirror_mode": {
    "name": "ipython",
    "version": 3
   },
   "file_extension": ".py",
   "mimetype": "text/x-python",
   "name": "python",
   "nbconvert_exporter": "python",
   "pygments_lexer": "ipython3",
   "version": "3.7.6"
  }
 },
 "nbformat": 4,
 "nbformat_minor": 4
}
